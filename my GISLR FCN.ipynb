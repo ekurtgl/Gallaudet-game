{
 "cells": [
  {
   "cell_type": "code",
   "execution_count": 1,
   "id": "22ca6ad2",
   "metadata": {
    "execution": {
     "iopub.execute_input": "2023-03-14T06:46:31.468885Z",
     "iopub.status.busy": "2023-03-14T06:46:31.467706Z",
     "iopub.status.idle": "2023-03-14T06:46:31.479482Z",
     "shell.execute_reply": "2023-03-14T06:46:31.478526Z"
    },
    "papermill": {
     "duration": 0.024997,
     "end_time": "2023-03-14T06:46:31.481767",
     "exception": false,
     "start_time": "2023-03-14T06:46:31.456770",
     "status": "completed"
    },
    "tags": []
   },
   "outputs": [],
   "source": [
    "import os\n",
    "os.environ['TF_DETERMINISTIC_OPS'] = '1'\n",
    "os.environ['TF_CUDNN_DETERMINISTIC'] = '1'"
   ]
  },
  {
   "cell_type": "markdown",
   "id": "912e0206",
   "metadata": {},
   "source": [
    "# my gpu cfg"
   ]
  },
  {
   "cell_type": "code",
   "execution_count": 2,
   "id": "1a491cb5",
   "metadata": {},
   "outputs": [
    {
     "name": "stderr",
     "output_type": "stream",
     "text": [
      "2023-03-20 11:13:39.143634: I tensorflow/core/platform/cpu_feature_guard.cc:193] This TensorFlow binary is optimized with oneAPI Deep Neural Network Library (oneDNN) to use the following CPU instructions in performance-critical operations:  AVX2 FMA\n",
      "To enable them in other operations, rebuild TensorFlow with the appropriate compiler flags.\n",
      "2023-03-20 11:13:40.861681: W tensorflow/compiler/xla/stream_executor/platform/default/dso_loader.cc:64] Could not load dynamic library 'libnvinfer.so.7'; dlerror: libnvrtc.so.11.0: cannot open shared object file: No such file or directory; LD_LIBRARY_PATH: :/home/emre/anaconda3/envs/emre_venv/lib/\n",
      "2023-03-20 11:13:40.861843: W tensorflow/compiler/xla/stream_executor/platform/default/dso_loader.cc:64] Could not load dynamic library 'libnvinfer_plugin.so.7'; dlerror: libnvinfer_plugin.so.7: cannot open shared object file: No such file or directory; LD_LIBRARY_PATH: :/home/emre/anaconda3/envs/emre_venv/lib/\n",
      "2023-03-20 11:13:40.861861: W tensorflow/compiler/tf2tensorrt/utils/py_utils.cc:38] TF-TRT Warning: Cannot dlopen some TensorRT libraries. If you would like to use Nvidia GPU with TensorRT, please make sure the missing libraries mentioned above are installed properly.\n"
     ]
    },
    {
     "name": "stdout",
     "output_type": "stream",
     "text": [
      "Num GPUs Available:  1\n"
     ]
    }
   ],
   "source": [
    "import tensorflow as tf\n",
    "# os.environ['TF_GPU_ALLOCATOR'] = 'cuda_malloc_async'\n",
    "os.environ['TF_FORCE_GPU_ALLOW_GROWTH'] = 'true' \n",
    "tf.config.set_soft_device_placement(True)\n",
    "os.environ[\"CUDA_DEVICE_ORDER\"] = \"PCI_BUS_ID\"\n",
    "os.environ[\"CUDA_VISIBLE_DEVICES\"] = \"1\"\n",
    "print(\"Num GPUs Available: \", len(tf.config.experimental.list_physical_devices('GPU')))"
   ]
  },
  {
   "cell_type": "markdown",
   "id": "98ad9655",
   "metadata": {
    "papermill": {
     "duration": 0.00926,
     "end_time": "2023-03-14T06:46:31.500553",
     "exception": false,
     "start_time": "2023-03-14T06:46:31.491293",
     "status": "completed"
    },
    "tags": []
   },
   "source": [
    "# IMPORTS"
   ]
  },
  {
   "cell_type": "code",
   "execution_count": 3,
   "id": "4a4dfe77",
   "metadata": {
    "_cell_guid": "b1076dfc-b9ad-4769-8c92-a6c4dae69d19",
    "_uuid": "8f2839f25d086af736a60e9eeb907d3b93b6e0e5",
    "execution": {
     "iopub.execute_input": "2023-03-14T06:46:31.520736Z",
     "iopub.status.busy": "2023-03-14T06:46:31.520389Z",
     "iopub.status.idle": "2023-03-14T06:47:22.596101Z",
     "shell.execute_reply": "2023-03-14T06:47:22.594566Z"
    },
    "papermill": {
     "duration": 51.089288,
     "end_time": "2023-03-14T06:47:22.599259",
     "exception": false,
     "start_time": "2023-03-14T06:46:31.509971",
     "status": "completed"
    },
    "tags": []
   },
   "outputs": [
    {
     "name": "stdout",
     "output_type": "stream",
     "text": [
      "\n",
      "... PIP INSTALLS STARTING ...\n",
      "\n",
      "\n",
      "... PIP INSTALLS COMPLETE ...\n",
      "\n",
      "\n",
      "... IMPORTS STARTING ...\n",
      "\n",
      "\n",
      "\tVERSION INFORMATION\n",
      "\t\t– TENSORFLOW VERSION: 2.11.0\n",
      "\t\t– TENSORFLOW-IO VERSION: 0.31.0\n",
      "\t\t– NUMPY VERSION: 1.23.3\n",
      "\t\t– SKLEARN VERSION: 1.1.2\n",
      "\n",
      "\n",
      "... IMPORTS COMPLETE ...\n",
      "\n"
     ]
    }
   ],
   "source": [
    "print(\"\\n... PIP INSTALLS STARTING ...\\n\")\n",
    "# !pip install -q --upgrade tensorflow-io\n",
    "try:\n",
    "    import mediapipe as mp\n",
    "except:\n",
    "#     !pip install -q mediapipe\n",
    "    import mediapipe as mp\n",
    "print(\"\\n... PIP INSTALLS COMPLETE ...\\n\")\n",
    "\n",
    "# !pip install lion-tf\n",
    "print(\"\\n... IMPORTS STARTING ...\\n\")\n",
    "print(\"\\n\\tVERSION INFORMATION\")\n",
    "\n",
    "# Machine Learning and Data Science Imports (basics)\n",
    "import tensorflow as tf; print(f\"\\t\\t– TENSORFLOW VERSION: {tf.__version__}\");\n",
    "import tensorflow_io as tfio; print(f\"\\t\\t– TENSORFLOW-IO VERSION: {tfio.__version__}\");\n",
    "import pandas as pd; pd.options.mode.chained_assignment = None; pd.set_option('display.max_columns', None);\n",
    "import numpy as np; print(f\"\\t\\t– NUMPY VERSION: {np.__version__}\");\n",
    "import sklearn; print(f\"\\t\\t– SKLEARN VERSION: {sklearn.__version__}\");\n",
    "\n",
    "# Built-In Imports (mostly don't worry about these)\n",
    "# from kaggle_datasets import KaggleDatasets\n",
    "from sklearn.model_selection import train_test_split\n",
    "from livelossplot import PlotLossesKerasTF\n",
    "from collections import Counter\n",
    "from datetime import datetime\n",
    "from zipfile import ZipFile\n",
    "from tqdm import tqdm\n",
    "from glob import glob\n",
    "# import Levenshtein\n",
    "import warnings\n",
    "import requests\n",
    "import hashlib\n",
    "# import imageio\n",
    "import IPython\n",
    "import sklearn\n",
    "import urllib\n",
    "import zipfile\n",
    "import pickle\n",
    "import random\n",
    "import shutil\n",
    "import string\n",
    "import json\n",
    "import math\n",
    "import time\n",
    "import gzip\n",
    "import ast\n",
    "import sys\n",
    "import io\n",
    "import os\n",
    "import gc\n",
    "import re\n",
    "\n",
    "def seed_it_all(seed=7):\n",
    "    \"\"\" Attempt to be Reproducible \"\"\"\n",
    "    os.environ['PYTHONHASHSEED'] = str(seed)\n",
    "    random.seed(seed)\n",
    "    np.random.seed(seed)\n",
    "    tf.random.set_seed(seed)\n",
    "\n",
    "seed_it_all()\n",
    "\n",
    "print(\"\\n\\n... IMPORTS COMPLETE ...\\n\")"
   ]
  },
  {
   "cell_type": "markdown",
   "id": "711b2dd8",
   "metadata": {
    "papermill": {
     "duration": 0.01072,
     "end_time": "2023-03-14T06:47:22.622138",
     "exception": false,
     "start_time": "2023-03-14T06:47:22.611418",
     "status": "completed"
    },
    "tags": []
   },
   "source": [
    "# SETUP"
   ]
  },
  {
   "cell_type": "markdown",
   "id": "c2687e9a",
   "metadata": {
    "papermill": {
     "duration": 0.01084,
     "end_time": "2023-03-14T06:47:22.643997",
     "exception": false,
     "start_time": "2023-03-14T06:47:22.633157",
     "status": "completed"
    },
    "tags": []
   },
   "source": [
    "### HELPER FUNCTIONS"
   ]
  },
  {
   "cell_type": "code",
   "execution_count": 4,
   "id": "cba4f541",
   "metadata": {
    "execution": {
     "iopub.execute_input": "2023-03-14T06:47:22.668281Z",
     "iopub.status.busy": "2023-03-14T06:47:22.666897Z",
     "iopub.status.idle": "2023-03-14T06:47:22.674636Z",
     "shell.execute_reply": "2023-03-14T06:47:22.673758Z"
    },
    "papermill": {
     "duration": 0.021823,
     "end_time": "2023-03-14T06:47:22.676786",
     "exception": false,
     "start_time": "2023-03-14T06:47:22.654963",
     "status": "completed"
    },
    "tags": []
   },
   "outputs": [],
   "source": [
    "def read_json_file(file_path):\n",
    "    try:\n",
    "        # Open the file and load the JSON data into a Python object\n",
    "        with open(file_path, 'r') as file:\n",
    "            json_data = json.load(file)\n",
    "        return json_data\n",
    "    except FileNotFoundError:\n",
    "        # Raise an error if the file path does not exist\n",
    "        raise FileNotFoundError(f\"File not found: {file_path}\")\n",
    "    except ValueError:\n",
    "        # Raise an error if the file does not contain valid JSON data\n",
    "        raise ValueError(f\"Invalid JSON data in file: {file_path}\")\n",
    "\n",
    "ROWS_PER_FRAME = 543  # number of landmarks per frame\n",
    "def load_relevant_data_subset(pq_path):\n",
    "    data_columns = ['x', 'y', 'z']\n",
    "    data = pd.read_parquet(pq_path, columns=data_columns)\n",
    "    n_frames = int(len(data) / ROWS_PER_FRAME)\n",
    "    data = data.values.reshape(n_frames, ROWS_PER_FRAME, len(data_columns))\n",
    "    return data.astype(np.float32)"
   ]
  },
  {
   "cell_type": "markdown",
   "id": "3f244845",
   "metadata": {
    "papermill": {
     "duration": 0.010716,
     "end_time": "2023-03-14T06:47:22.698131",
     "exception": false,
     "start_time": "2023-03-14T06:47:22.687415",
     "status": "completed"
    },
    "tags": []
   },
   "source": [
    "### LOAD DATA"
   ]
  },
  {
   "cell_type": "code",
   "execution_count": 5,
   "id": "ed5f5cfa",
   "metadata": {
    "execution": {
     "iopub.execute_input": "2023-03-14T06:47:22.722513Z",
     "iopub.status.busy": "2023-03-14T06:47:22.721642Z",
     "iopub.status.idle": "2023-03-14T06:47:23.011824Z",
     "shell.execute_reply": "2023-03-14T06:47:23.009775Z"
    },
    "papermill": {
     "duration": 0.307047,
     "end_time": "2023-03-14T06:47:23.016475",
     "exception": false,
     "start_time": "2023-03-14T06:47:22.709428",
     "status": "completed"
    },
    "tags": []
   },
   "outputs": [
    {
     "name": "stdout",
     "output_type": "stream",
     "text": [
      "\n",
      "... BASIC DATA SETUP STARTING ...\n",
      "\n",
      "\n",
      "\n",
      "... LOAD TRAIN DATAFRAME FROM CSV FILE ...\n",
      "\n"
     ]
    },
    {
     "data": {
      "text/html": [
       "<div>\n",
       "<style scoped>\n",
       "    .dataframe tbody tr th:only-of-type {\n",
       "        vertical-align: middle;\n",
       "    }\n",
       "\n",
       "    .dataframe tbody tr th {\n",
       "        vertical-align: top;\n",
       "    }\n",
       "\n",
       "    .dataframe thead th {\n",
       "        text-align: right;\n",
       "    }\n",
       "</style>\n",
       "<table border=\"1\" class=\"dataframe\">\n",
       "  <thead>\n",
       "    <tr style=\"text-align: right;\">\n",
       "      <th></th>\n",
       "      <th>path</th>\n",
       "      <th>participant_id</th>\n",
       "      <th>sequence_id</th>\n",
       "      <th>sign</th>\n",
       "    </tr>\n",
       "  </thead>\n",
       "  <tbody>\n",
       "    <tr>\n",
       "      <th>0</th>\n",
       "      <td>../data/train_landmark_files/26734/1000035562....</td>\n",
       "      <td>26734</td>\n",
       "      <td>1000035562</td>\n",
       "      <td>blow</td>\n",
       "    </tr>\n",
       "    <tr>\n",
       "      <th>1</th>\n",
       "      <td>../data/train_landmark_files/28656/1000106739....</td>\n",
       "      <td>28656</td>\n",
       "      <td>1000106739</td>\n",
       "      <td>wait</td>\n",
       "    </tr>\n",
       "    <tr>\n",
       "      <th>2</th>\n",
       "      <td>../data/train_landmark_files/16069/100015657.p...</td>\n",
       "      <td>16069</td>\n",
       "      <td>100015657</td>\n",
       "      <td>cloud</td>\n",
       "    </tr>\n",
       "    <tr>\n",
       "      <th>3</th>\n",
       "      <td>../data/train_landmark_files/25571/1000210073....</td>\n",
       "      <td>25571</td>\n",
       "      <td>1000210073</td>\n",
       "      <td>bird</td>\n",
       "    </tr>\n",
       "    <tr>\n",
       "      <th>4</th>\n",
       "      <td>../data/train_landmark_files/62590/1000240708....</td>\n",
       "      <td>62590</td>\n",
       "      <td>1000240708</td>\n",
       "      <td>owie</td>\n",
       "    </tr>\n",
       "  </tbody>\n",
       "</table>\n",
       "</div>"
      ],
      "text/plain": [
       "                                                path  participant_id  \\\n",
       "0  ../data/train_landmark_files/26734/1000035562....           26734   \n",
       "1  ../data/train_landmark_files/28656/1000106739....           28656   \n",
       "2  ../data/train_landmark_files/16069/100015657.p...           16069   \n",
       "3  ../data/train_landmark_files/25571/1000210073....           25571   \n",
       "4  ../data/train_landmark_files/62590/1000240708....           62590   \n",
       "\n",
       "   sequence_id   sign  \n",
       "0   1000035562   blow  \n",
       "1   1000106739   wait  \n",
       "2    100015657  cloud  \n",
       "3   1000210073   bird  \n",
       "4   1000240708   owie  "
      ]
     },
     "metadata": {},
     "output_type": "display_data"
    },
    {
     "name": "stdout",
     "output_type": "stream",
     "text": [
      "\n",
      "\n",
      "... LOAD SIGN TO PREDICTION INDEX MAP FROM JSON FILE ...\n",
      "\n",
      "{'tv': 0, 'after': 1, 'airplane': 2, 'all': 3, 'alligator': 4, 'animal': 5, 'another': 6, 'any': 7, 'apple': 8, 'arm': 9, 'aunt': 10, 'awake': 11, 'backyard': 12, 'bad': 13, 'balloon': 14, 'bath': 15, 'because': 16, 'bed': 17, 'bedroom': 18, 'bee': 19, 'before': 20, 'beside': 21, 'better': 22, 'bird': 23, 'black': 24, 'blow': 25, 'blue': 26, 'boat': 27, 'book': 28, 'boy': 29, 'brother': 30, 'brown': 31, 'bug': 32, 'bye': 33, 'callonphone': 34, 'can': 35, 'car': 36, 'carrot': 37, 'cat': 38, 'cereal': 39, 'chair': 40, 'cheek': 41, 'child': 42, 'chin': 43, 'chocolate': 44, 'clean': 45, 'close': 46, 'closet': 47, 'cloud': 48, 'clown': 49, 'cow': 50, 'cowboy': 51, 'cry': 52, 'cut': 53, 'cute': 54, 'dad': 55, 'dance': 56, 'dirty': 57, 'dog': 58, 'doll': 59, 'donkey': 60, 'down': 61, 'drawer': 62, 'drink': 63, 'drop': 64, 'dry': 65, 'dryer': 66, 'duck': 67, 'ear': 68, 'elephant': 69, 'empty': 70, 'every': 71, 'eye': 72, 'face': 73, 'fall': 74, 'farm': 75, 'fast': 76, 'feet': 77, 'find': 78, 'fine': 79, 'finger': 80, 'finish': 81, 'fireman': 82, 'first': 83, 'fish': 84, 'flag': 85, 'flower': 86, 'food': 87, 'for': 88, 'frenchfries': 89, 'frog': 90, 'garbage': 91, 'gift': 92, 'giraffe': 93, 'girl': 94, 'give': 95, 'glasswindow': 96, 'go': 97, 'goose': 98, 'grandma': 99, 'grandpa': 100, 'grass': 101, 'green': 102, 'gum': 103, 'hair': 104, 'happy': 105, 'hat': 106, 'hate': 107, 'have': 108, 'haveto': 109, 'head': 110, 'hear': 111, 'helicopter': 112, 'hello': 113, 'hen': 114, 'hesheit': 115, 'hide': 116, 'high': 117, 'home': 118, 'horse': 119, 'hot': 120, 'hungry': 121, 'icecream': 122, 'if': 123, 'into': 124, 'jacket': 125, 'jeans': 126, 'jump': 127, 'kiss': 128, 'kitty': 129, 'lamp': 130, 'later': 131, 'like': 132, 'lion': 133, 'lips': 134, 'listen': 135, 'look': 136, 'loud': 137, 'mad': 138, 'make': 139, 'man': 140, 'many': 141, 'milk': 142, 'minemy': 143, 'mitten': 144, 'mom': 145, 'moon': 146, 'morning': 147, 'mouse': 148, 'mouth': 149, 'nap': 150, 'napkin': 151, 'night': 152, 'no': 153, 'noisy': 154, 'nose': 155, 'not': 156, 'now': 157, 'nuts': 158, 'old': 159, 'on': 160, 'open': 161, 'orange': 162, 'outside': 163, 'owie': 164, 'owl': 165, 'pajamas': 166, 'pen': 167, 'pencil': 168, 'penny': 169, 'person': 170, 'pig': 171, 'pizza': 172, 'please': 173, 'police': 174, 'pool': 175, 'potty': 176, 'pretend': 177, 'pretty': 178, 'puppy': 179, 'puzzle': 180, 'quiet': 181, 'radio': 182, 'rain': 183, 'read': 184, 'red': 185, 'refrigerator': 186, 'ride': 187, 'room': 188, 'sad': 189, 'same': 190, 'say': 191, 'scissors': 192, 'see': 193, 'shhh': 194, 'shirt': 195, 'shoe': 196, 'shower': 197, 'sick': 198, 'sleep': 199, 'sleepy': 200, 'smile': 201, 'snack': 202, 'snow': 203, 'stairs': 204, 'stay': 205, 'sticky': 206, 'store': 207, 'story': 208, 'stuck': 209, 'sun': 210, 'table': 211, 'talk': 212, 'taste': 213, 'thankyou': 214, 'that': 215, 'there': 216, 'think': 217, 'thirsty': 218, 'tiger': 219, 'time': 220, 'tomorrow': 221, 'tongue': 222, 'tooth': 223, 'toothbrush': 224, 'touch': 225, 'toy': 226, 'tree': 227, 'uncle': 228, 'underwear': 229, 'up': 230, 'vacuum': 231, 'wait': 232, 'wake': 233, 'water': 234, 'wet': 235, 'weus': 236, 'where': 237, 'white': 238, 'who': 239, 'why': 240, 'will': 241, 'wolf': 242, 'yellow': 243, 'yes': 244, 'yesterday': 245, 'yourself': 246, 'yucky': 247, 'zebra': 248, 'zipper': 249}\n"
     ]
    }
   ],
   "source": [
    "# Define the path to the root data directory\n",
    "DATA_DIR         = \"../data\"\n",
    "\n",
    "print(\"\\n... BASIC DATA SETUP STARTING ...\\n\")\n",
    "print(\"\\n\\n... LOAD TRAIN DATAFRAME FROM CSV FILE ...\\n\")\n",
    "\n",
    "train_df = pd.read_csv(os.path.join(DATA_DIR, \"train.csv\"))\n",
    "train_df[\"path\"] = DATA_DIR+\"/\"+train_df[\"path\"]\n",
    "display(train_df.head())\n",
    "\n",
    "print(\"\\n\\n... LOAD SIGN TO PREDICTION INDEX MAP FROM JSON FILE ...\\n\")\n",
    "s2p_map = {k.lower():v for k,v in read_json_file(os.path.join(DATA_DIR, \"sign_to_prediction_index_map.json\")).items()}\n",
    "p2s_map = {v:k for k,v in read_json_file(os.path.join(DATA_DIR, \"sign_to_prediction_index_map.json\")).items()}\n",
    "encoder = lambda x: s2p_map.get(x.lower())\n",
    "decoder = lambda x: p2s_map.get(x)\n",
    "print(s2p_map)"
   ]
  },
  {
   "cell_type": "markdown",
   "id": "75e6e82d",
   "metadata": {
    "papermill": {
     "duration": 0.016162,
     "end_time": "2023-03-14T06:47:23.092011",
     "exception": false,
     "start_time": "2023-03-14T06:47:23.075849",
     "status": "completed"
    },
    "tags": []
   },
   "source": [
    "## Configuration"
   ]
  },
  {
   "cell_type": "code",
   "execution_count": 6,
   "id": "fc968fdb",
   "metadata": {
    "execution": {
     "iopub.execute_input": "2023-03-14T06:47:23.127252Z",
     "iopub.status.busy": "2023-03-14T06:47:23.126825Z",
     "iopub.status.idle": "2023-03-14T06:47:23.140740Z",
     "shell.execute_reply": "2023-03-14T06:47:23.139773Z"
    },
    "papermill": {
     "duration": 0.036458,
     "end_time": "2023-03-14T06:47:23.145330",
     "exception": false,
     "start_time": "2023-03-14T06:47:23.108872",
     "status": "completed"
    },
    "tags": []
   },
   "outputs": [
    {
     "name": "stdout",
     "output_type": "stream",
     "text": [
      "84\n"
     ]
    }
   ],
   "source": [
    "DROP_Z = False\n",
    "\n",
    "NUM_FRAMES1 = 15 # 15 for feature_data.npy\n",
    "SEGMENTS = 3\n",
    "\n",
    "num_face = 468\n",
    "num_lhand = 21\n",
    "num_pose = 33\n",
    "num_rhand = 21\n",
    "\n",
    "\n",
    "LEFT_HAND_OFFSET = num_face\n",
    "POSE_OFFSET = LEFT_HAND_OFFSET + num_lhand\n",
    "RIGHT_HAND_OFFSET = POSE_OFFSET + num_pose\n",
    "\n",
    "## average over the entire face, and the entire 'pose'\n",
    "averaging_sets = [[0, 468], [POSE_OFFSET, 33]]\n",
    "\n",
    "lip_landmarks = [61, 185, 40, 39, 37,  0, 267, 269, 270, 409,\n",
    "                 291,146, 91,181, 84, 17, 314, 405, 321, 375, \n",
    "                 78, 191, 80, 81, 82, 13, 312, 311, 310, 415, \n",
    "                 95, 88, 178, 87, 14,317, 402, 318, 324, 308]\n",
    "left_hand_landmarks = list(range(LEFT_HAND_OFFSET, LEFT_HAND_OFFSET + num_lhand))\n",
    "all_pose_landmarks = list(range(POSE_OFFSET, POSE_OFFSET + num_pose))\n",
    "pose_relavant_landmarks = [11, 13, 15, 17, 19, 21,\n",
    "                           12, 14, 16, 18, 20, 22]\n",
    "pose_landmarks = [all_pose_landmarks[p] for p in pose_relavant_landmarks]\n",
    "\n",
    "right_hand_landmarks = list(range(RIGHT_HAND_OFFSET, RIGHT_HAND_OFFSET + num_rhand))\n",
    "\n",
    "# point_landmarks = [item for sublist in [lip_landmarks, left_hand_landmarks, pose_landmarks, right_hand_landmarks] for item in sublist]\n",
    "point_landmarks = [item for sublist in [lip_landmarks, left_hand_landmarks, right_hand_landmarks] for item in sublist]\n",
    "\n",
    "LANDMARKS1 = len(point_landmarks) + len(averaging_sets)\n",
    "print(LANDMARKS1)\n",
    "\n",
    "if DROP_Z:\n",
    "    INPUT_SHAPE1 = (NUM_FRAMES1,LANDMARKS1*2)\n",
    "else:\n",
    "    INPUT_SHAPE1 = (NUM_FRAMES1,LANDMARKS1*3)\n",
    "\n",
    "FLAT_INPUT_SHAPE1 = (INPUT_SHAPE1[0] + 2 * (SEGMENTS + 1)) * INPUT_SHAPE1[1]\n",
    "    "
   ]
  },
  {
   "cell_type": "markdown",
   "id": "6e2c31bf",
   "metadata": {
    "papermill": {
     "duration": 0.016479,
     "end_time": "2023-03-14T06:47:23.178327",
     "exception": false,
     "start_time": "2023-03-14T06:47:23.161848",
     "status": "completed"
    },
    "tags": []
   },
   "source": [
    "## Helper Functions"
   ]
  },
  {
   "cell_type": "code",
   "execution_count": 7,
   "id": "6d9b4cf0",
   "metadata": {
    "execution": {
     "iopub.execute_input": "2023-03-14T06:47:23.226473Z",
     "iopub.status.busy": "2023-03-14T06:47:23.226048Z",
     "iopub.status.idle": "2023-03-14T06:47:23.238499Z",
     "shell.execute_reply": "2023-03-14T06:47:23.237456Z"
    },
    "papermill": {
     "duration": 0.041076,
     "end_time": "2023-03-14T06:47:23.241102",
     "exception": false,
     "start_time": "2023-03-14T06:47:23.200026",
     "status": "completed"
    },
    "tags": []
   },
   "outputs": [],
   "source": [
    "def tf_nan_mean(x, axis=0):\n",
    "    return tf.reduce_sum(tf.where(tf.math.is_nan(x), tf.zeros_like(x), x), axis=axis) / tf.reduce_sum(tf.where(tf.math.is_nan(x), tf.zeros_like(x), tf.ones_like(x)), axis=axis)\n",
    "\n",
    "def tf_nan_std(x, axis=0):\n",
    "    d = x - tf_nan_mean(x, axis=axis)\n",
    "    return tf.math.sqrt(tf_nan_mean(d * d, axis=axis))\n",
    "\n",
    "def flatten_means_and_stds1(x, axis=0):\n",
    "    # Get means and stds\n",
    "    x_mean = tf_nan_mean(x, axis=0)\n",
    "    x_std  = tf_nan_std(x,  axis=0)\n",
    "\n",
    "    x_out = tf.concat([x_mean, x_std], axis=0)\n",
    "    x_out = tf.reshape(x_out, (1, INPUT_SHAPE1[1]*2))\n",
    "    x_out = tf.where(tf.math.is_finite(x_out), x_out, tf.zeros_like(x_out))\n",
    "    return x_out"
   ]
  },
  {
   "cell_type": "markdown",
   "id": "f579b5b7",
   "metadata": {
    "papermill": {
     "duration": 0.017644,
     "end_time": "2023-03-14T06:47:23.276298",
     "exception": false,
     "start_time": "2023-03-14T06:47:23.258654",
     "status": "completed"
    },
    "tags": []
   },
   "source": [
    "## TensorFlow Feature Preprocessing Layer"
   ]
  },
  {
   "cell_type": "code",
   "execution_count": 8,
   "id": "b4f49c7e",
   "metadata": {
    "execution": {
     "iopub.execute_input": "2023-03-14T06:47:23.311919Z",
     "iopub.status.busy": "2023-03-14T06:47:23.311176Z",
     "iopub.status.idle": "2023-03-14T06:47:26.845755Z",
     "shell.execute_reply": "2023-03-14T06:47:26.844665Z"
    },
    "papermill": {
     "duration": 3.554813,
     "end_time": "2023-03-14T06:47:26.848056",
     "exception": false,
     "start_time": "2023-03-14T06:47:23.293243",
     "status": "completed"
    },
    "tags": []
   },
   "outputs": [
    {
     "name": "stdout",
     "output_type": "stream",
     "text": [
      "(1, 5796)\n"
     ]
    },
    {
     "name": "stderr",
     "output_type": "stream",
     "text": [
      "2023-03-20 11:13:44.583980: I tensorflow/core/platform/cpu_feature_guard.cc:193] This TensorFlow binary is optimized with oneAPI Deep Neural Network Library (oneDNN) to use the following CPU instructions in performance-critical operations:  AVX2 FMA\n",
      "To enable them in other operations, rebuild TensorFlow with the appropriate compiler flags.\n",
      "2023-03-20 11:13:45.623706: W tensorflow/core/common_runtime/gpu/gpu_bfc_allocator.cc:42] Overriding orig_value setting because the TF_FORCE_GPU_ALLOW_GROWTH environment variable is set. Original config value was 0.\n",
      "2023-03-20 11:13:45.623800: I tensorflow/core/common_runtime/gpu/gpu_device.cc:1613] Created device /job:localhost/replica:0/task:0/device:GPU:0 with 9944 MB memory:  -> device: 0, name: TITAN V, pci bus id: 0000:83:00.0, compute capability: 7.0\n"
     ]
    }
   ],
   "source": [
    "class FeatureGen(tf.keras.layers.Layer):\n",
    "    def __init__(self):\n",
    "        super(FeatureGen, self).__init__()\n",
    "    \n",
    "    def call(self, x_in):\n",
    "        if DROP_Z:\n",
    "            x_in = x_in[:, :, 0:2]\n",
    "        x_list = [tf.expand_dims(tf_nan_mean(x_in[:, av_set[0]:av_set[0]+av_set[1], :], axis=1), axis=1) for av_set in averaging_sets]\n",
    "        x_list.append(tf.gather(x_in, point_landmarks, axis=1))\n",
    "        x = tf.concat(x_list, 1)\n",
    "\n",
    "        x_padded = x\n",
    "        for i in range(SEGMENTS):\n",
    "            p0 = tf.where( ((tf.shape(x_padded)[0] % SEGMENTS) > 0) & ((i % 2) != 0) , 1, 0)\n",
    "            p1 = tf.where( ((tf.shape(x_padded)[0] % SEGMENTS) > 0) & ((i % 2) == 0) , 1, 0)\n",
    "            paddings = [[p0, p1], [0, 0], [0, 0]]\n",
    "            x_padded = tf.pad(x_padded, paddings, mode=\"SYMMETRIC\")\n",
    "        x_list = tf.split(x_padded, SEGMENTS)\n",
    "        x_list = [flatten_means_and_stds1(_x, axis=0) for _x in x_list]\n",
    "\n",
    "        x_list.append(flatten_means_and_stds1(x, axis=0))\n",
    "        \n",
    "        ## Resize only dimension 0. Resize can't handle nan, so replace nan with that dimension's avg value to reduce impact.\n",
    "        x = tf.image.resize(tf.where(tf.math.is_finite(x), x, tf_nan_mean(x, axis=0)), [NUM_FRAMES1, LANDMARKS1])\n",
    "        x = tf.reshape(x, (1, INPUT_SHAPE1[0]*INPUT_SHAPE1[1]))\n",
    "        x = tf.where(tf.math.is_nan(x), tf.zeros_like(x), x)\n",
    "        x_list.append(x)\n",
    "        x = tf.concat(x_list, axis=1)\n",
    "        return x\n",
    "\n",
    "# print(FeatureGen()(tf.keras.Input((543, 3), dtype=tf.float32, name=\"inputs\")))\n",
    "tensor = FeatureGen()(load_relevant_data_subset(train_df.path[0]))\n",
    "print(tensor.shape)"
   ]
  },
  {
   "cell_type": "markdown",
   "id": "1506c114",
   "metadata": {},
   "source": [
    "# Load data"
   ]
  },
  {
   "cell_type": "code",
   "execution_count": 9,
   "id": "9f259ab5",
   "metadata": {},
   "outputs": [
    {
     "name": "stdout",
     "output_type": "stream",
     "text": [
      "(94477, 5796) (94477,)\n"
     ]
    }
   ],
   "source": [
    "# train_x    = np.load(\"datasets/my_feature_data_numframes\" + str(NUM_FRAMES1) + \".npy\").astype(np.float32)\n",
    "# train_y    = np.load(\"datasets/my_feature_labels_numframes\" + str(NUM_FRAMES1) + \".npy\").astype(np.uint8)\n",
    "# train_x    = np.load(\"datasets/my_feature_data.npy\").astype(np.float32)\n",
    "# train_y    = np.load(\"datasets/my_feature_labels.npy\").astype(np.uint8)\n",
    "train_x    = np.load(\"datasets/feature_data.npy\").astype(np.float32)\n",
    "train_y    = np.load(\"datasets/feature_labels.npy\").astype(np.uint8)\n",
    "print(train_x.shape, train_y.shape)"
   ]
  },
  {
   "cell_type": "code",
   "execution_count": 10,
   "id": "71ebf1e3",
   "metadata": {},
   "outputs": [
    {
     "name": "stdout",
     "output_type": "stream",
     "text": [
      "89753 ,  4724\n"
     ]
    }
   ],
   "source": [
    "train_index, test_index = train_test_split(list(range(len(train_x))), test_size = 0.05,random_state=1)\n",
    "print(len(train_index), ', ', len(test_index))"
   ]
  },
  {
   "cell_type": "markdown",
   "id": "29f13f7f",
   "metadata": {
    "papermill": {
     "duration": 0.011298,
     "end_time": "2023-03-14T06:47:26.871454",
     "exception": false,
     "start_time": "2023-03-14T06:47:26.860156",
     "status": "completed"
    },
    "tags": []
   },
   "source": [
    "## Hyperparams"
   ]
  },
  {
   "cell_type": "code",
   "execution_count": 11,
   "id": "61a87064",
   "metadata": {
    "execution": {
     "iopub.execute_input": "2023-03-14T06:47:26.896145Z",
     "iopub.status.busy": "2023-03-14T06:47:26.895257Z",
     "iopub.status.idle": "2023-03-14T06:47:26.901480Z",
     "shell.execute_reply": "2023-03-14T06:47:26.900560Z"
    },
    "papermill": {
     "duration": 0.020662,
     "end_time": "2023-03-14T06:47:26.903511",
     "exception": false,
     "start_time": "2023-03-14T06:47:26.882849",
     "status": "completed"
    },
    "tags": []
   },
   "outputs": [],
   "source": [
    "BATCH_SIZE = 128\n",
    "VAL_PCT = 0.1\n",
    "LEARNING_RATE = 0.000333\n",
    "LR_PATIENCE = 2\n",
    "LR_REDUCTION_FACTOR = 0.8\n",
    "EPOCHS = 200\n",
    "\n",
    "STARTING_LAYER_SIZE = 1426\n",
    "DROPOUTS = [0.5,0.5]"
   ]
  },
  {
   "cell_type": "markdown",
   "id": "faeda5c5",
   "metadata": {},
   "source": [
    "## Callbacks"
   ]
  },
  {
   "cell_type": "code",
   "execution_count": 12,
   "id": "f9584ef6",
   "metadata": {},
   "outputs": [],
   "source": [
    "cb_list = [\n",
    "    tf.keras.callbacks.EarlyStopping(patience=20, restore_best_weights=True, monitor='val_acc'),\n",
    "    tf.keras.callbacks.ReduceLROnPlateau(patience=LR_PATIENCE, factor=LR_REDUCTION_FACTOR, verbose=0),\n",
    "    PlotLossesKerasTF()\n",
    "]"
   ]
  },
  {
   "cell_type": "markdown",
   "id": "2f17a91f",
   "metadata": {},
   "source": [
    "## FCN"
   ]
  },
  {
   "cell_type": "code",
   "execution_count": 13,
   "id": "2dfcefbc",
   "metadata": {},
   "outputs": [],
   "source": [
    "def fc_block(inputs, output_channels, dropout=0.2, activation=\"gelu\"):\n",
    "    x = tf.keras.layers.Dense(output_channels)(inputs)\n",
    "    x = tf.keras.layers.BatchNormalization()(x)\n",
    "    x = tf.keras.layers.Activation(activation)(x)\n",
    "    x = tf.keras.layers.Dropout(dropout)(x)\n",
    "    return x"
   ]
  },
  {
   "cell_type": "code",
   "execution_count": 14,
   "id": "d4580b70",
   "metadata": {},
   "outputs": [],
   "source": [
    "def get_model(n_labels=250, init_fc=STARTING_LAYER_SIZE, flat_frame_len=train_x.shape[1]):\n",
    "    \n",
    "    _inputs = tf.keras.layers.Input(shape=(flat_frame_len,))\n",
    "    x = _inputs\n",
    "\n",
    "    for i in range(len(DROPOUTS)):\n",
    "        x = fc_block(\n",
    "            x, output_channels=init_fc//(2**i), \n",
    "            dropout=DROPOUTS[i]\n",
    "        )\n",
    "\n",
    "    _outputs = tf.keras.layers.Dense(n_labels, activation=\"softmax\", name='outputs')(x)\n",
    "\n",
    "    model = tf.keras.models.Model(inputs=_inputs, outputs=_outputs)\n",
    "    optimizer = tf.keras.optimizers.Adam(learning_rate=LEARNING_RATE)\n",
    "    model.compile(optimizer, \"sparse_categorical_crossentropy\", metrics=\"acc\")\n",
    "#     model.summary()\n",
    "#     tf.keras.utils.plot_model(model)\n",
    "    return model"
   ]
  },
  {
   "cell_type": "markdown",
   "id": "f0dbcb0c",
   "metadata": {},
   "source": [
    "## Train"
   ]
  },
  {
   "cell_type": "code",
   "execution_count": 26,
   "id": "e30f2653",
   "metadata": {},
   "outputs": [],
   "source": [
    "model = get_model()"
   ]
  },
  {
   "cell_type": "code",
   "execution_count": 27,
   "id": "30ee1449",
   "metadata": {},
   "outputs": [
    {
     "data": {
      "image/png": "[encoded data removed]",
      "text/plain": [
       "<Figure size 1200x1200 with 4 Axes>"
      ]
     },
     "metadata": {},
     "output_type": "display_data"
    },
    {
     "name": "stdout",
     "output_type": "stream",
     "text": [
      "Accuracy\n",
      "\ttraining         \t (min:    0.035, max:    0.196, cur:    0.129)\n",
      "\tvalidation       \t (min:    0.063, max:    0.192, cur:    0.095)\n",
      "Loss\n",
      "\ttraining         \t (min:      nan, max:      nan, cur:    3.962)\n",
      "\tvalidation       \t (min:      nan, max:      nan, cur:    4.256)\n",
      "lr\n",
      "\tlr               \t (min:    0.000, max:    0.000, cur:    0.000)\n",
      "702/702 [==============================] - 11s 16ms/step - loss: 3.9615 - acc: 0.1292 - val_loss: 4.2563 - val_acc: 0.0955 - lr: 3.3300e-04\n",
      "Epoch 3/200\n",
      "423/702 [=================>............] - ETA: 3s - loss: 3.4390 - acc: 0.2050"
     ]
    },
    {
     "ename": "KeyboardInterrupt",
     "evalue": "",
     "output_type": "error",
     "traceback": [
      "\u001b[0;31m---------------------------------------------------------------------------\u001b[0m",
      "\u001b[0;31mKeyboardInterrupt\u001b[0m                         Traceback (most recent call last)",
      "Input \u001b[0;32mIn [27]\u001b[0m, in \u001b[0;36m<cell line: 1>\u001b[0;34m()\u001b[0m\n\u001b[0;32m----> 1\u001b[0m history \u001b[38;5;241m=\u001b[39m \u001b[43mmodel\u001b[49m\u001b[38;5;241;43m.\u001b[39;49m\u001b[43mfit\u001b[49m\u001b[43m(\u001b[49m\u001b[43mtrain_x\u001b[49m\u001b[43m[\u001b[49m\u001b[43mtrain_index\u001b[49m\u001b[43m]\u001b[49m\u001b[43m,\u001b[49m\u001b[43m \u001b[49m\u001b[43mtrain_y\u001b[49m\u001b[43m[\u001b[49m\u001b[43mtrain_index\u001b[49m\u001b[43m]\u001b[49m\u001b[43m,\u001b[49m\n\u001b[1;32m      2\u001b[0m \u001b[43m                    \u001b[49m\u001b[43mvalidation_data\u001b[49m\u001b[38;5;241;43m=\u001b[39;49m\u001b[43m(\u001b[49m\u001b[43mtrain_x\u001b[49m\u001b[43m[\u001b[49m\u001b[43mtest_index\u001b[49m\u001b[43m]\u001b[49m\u001b[43m,\u001b[49m\u001b[43m \u001b[49m\u001b[43mtrain_y\u001b[49m\u001b[43m[\u001b[49m\u001b[43mtest_index\u001b[49m\u001b[43m]\u001b[49m\u001b[43m)\u001b[49m\u001b[43m,\u001b[49m\n\u001b[1;32m      3\u001b[0m \u001b[43m                    \u001b[49m\u001b[43mepochs\u001b[49m\u001b[38;5;241;43m=\u001b[39;49m\u001b[43mEPOCHS\u001b[49m\u001b[43m,\u001b[49m\u001b[43m \u001b[49m\u001b[43mcallbacks\u001b[49m\u001b[38;5;241;43m=\u001b[39;49m\u001b[43mcb_list\u001b[49m\u001b[43m,\u001b[49m\u001b[43m \u001b[49m\u001b[43mbatch_size\u001b[49m\u001b[38;5;241;43m=\u001b[39;49m\u001b[43mBATCH_SIZE\u001b[49m\u001b[43m)\u001b[49m\n",
      "File \u001b[0;32m~/anaconda3/envs/emre_venv/lib/python3.9/site-packages/keras/utils/traceback_utils.py:65\u001b[0m, in \u001b[0;36mfilter_traceback.<locals>.error_handler\u001b[0;34m(*args, **kwargs)\u001b[0m\n\u001b[1;32m     63\u001b[0m filtered_tb \u001b[38;5;241m=\u001b[39m \u001b[38;5;28;01mNone\u001b[39;00m\n\u001b[1;32m     64\u001b[0m \u001b[38;5;28;01mtry\u001b[39;00m:\n\u001b[0;32m---> 65\u001b[0m     \u001b[38;5;28;01mreturn\u001b[39;00m \u001b[43mfn\u001b[49m\u001b[43m(\u001b[49m\u001b[38;5;241;43m*\u001b[39;49m\u001b[43margs\u001b[49m\u001b[43m,\u001b[49m\u001b[43m \u001b[49m\u001b[38;5;241;43m*\u001b[39;49m\u001b[38;5;241;43m*\u001b[39;49m\u001b[43mkwargs\u001b[49m\u001b[43m)\u001b[49m\n\u001b[1;32m     66\u001b[0m \u001b[38;5;28;01mexcept\u001b[39;00m \u001b[38;5;167;01mException\u001b[39;00m \u001b[38;5;28;01mas\u001b[39;00m e:\n\u001b[1;32m     67\u001b[0m     filtered_tb \u001b[38;5;241m=\u001b[39m _process_traceback_frames(e\u001b[38;5;241m.\u001b[39m__traceback__)\n",
      "File \u001b[0;32m~/anaconda3/envs/emre_venv/lib/python3.9/site-packages/keras/engine/training.py:1650\u001b[0m, in \u001b[0;36mModel.fit\u001b[0;34m(self, x, y, batch_size, epochs, verbose, callbacks, validation_split, validation_data, shuffle, class_weight, sample_weight, initial_epoch, steps_per_epoch, validation_steps, validation_batch_size, validation_freq, max_queue_size, workers, use_multiprocessing)\u001b[0m\n\u001b[1;32m   1642\u001b[0m \u001b[38;5;28;01mwith\u001b[39;00m tf\u001b[38;5;241m.\u001b[39mprofiler\u001b[38;5;241m.\u001b[39mexperimental\u001b[38;5;241m.\u001b[39mTrace(\n\u001b[1;32m   1643\u001b[0m     \u001b[38;5;124m\"\u001b[39m\u001b[38;5;124mtrain\u001b[39m\u001b[38;5;124m\"\u001b[39m,\n\u001b[1;32m   1644\u001b[0m     epoch_num\u001b[38;5;241m=\u001b[39mepoch,\n\u001b[0;32m   (...)\u001b[0m\n\u001b[1;32m   1647\u001b[0m     _r\u001b[38;5;241m=\u001b[39m\u001b[38;5;241m1\u001b[39m,\n\u001b[1;32m   1648\u001b[0m ):\n\u001b[1;32m   1649\u001b[0m     callbacks\u001b[38;5;241m.\u001b[39mon_train_batch_begin(step)\n\u001b[0;32m-> 1650\u001b[0m     tmp_logs \u001b[38;5;241m=\u001b[39m \u001b[38;5;28;43mself\u001b[39;49m\u001b[38;5;241;43m.\u001b[39;49m\u001b[43mtrain_function\u001b[49m\u001b[43m(\u001b[49m\u001b[43miterator\u001b[49m\u001b[43m)\u001b[49m\n\u001b[1;32m   1651\u001b[0m     \u001b[38;5;28;01mif\u001b[39;00m data_handler\u001b[38;5;241m.\u001b[39mshould_sync:\n\u001b[1;32m   1652\u001b[0m         context\u001b[38;5;241m.\u001b[39masync_wait()\n",
      "File \u001b[0;32m~/anaconda3/envs/emre_venv/lib/python3.9/site-packages/tensorflow/python/util/traceback_utils.py:150\u001b[0m, in \u001b[0;36mfilter_traceback.<locals>.error_handler\u001b[0;34m(*args, **kwargs)\u001b[0m\n\u001b[1;32m    148\u001b[0m filtered_tb \u001b[38;5;241m=\u001b[39m \u001b[38;5;28;01mNone\u001b[39;00m\n\u001b[1;32m    149\u001b[0m \u001b[38;5;28;01mtry\u001b[39;00m:\n\u001b[0;32m--> 150\u001b[0m   \u001b[38;5;28;01mreturn\u001b[39;00m \u001b[43mfn\u001b[49m\u001b[43m(\u001b[49m\u001b[38;5;241;43m*\u001b[39;49m\u001b[43margs\u001b[49m\u001b[43m,\u001b[49m\u001b[43m \u001b[49m\u001b[38;5;241;43m*\u001b[39;49m\u001b[38;5;241;43m*\u001b[39;49m\u001b[43mkwargs\u001b[49m\u001b[43m)\u001b[49m\n\u001b[1;32m    151\u001b[0m \u001b[38;5;28;01mexcept\u001b[39;00m \u001b[38;5;167;01mException\u001b[39;00m \u001b[38;5;28;01mas\u001b[39;00m e:\n\u001b[1;32m    152\u001b[0m   filtered_tb \u001b[38;5;241m=\u001b[39m _process_traceback_frames(e\u001b[38;5;241m.\u001b[39m__traceback__)\n",
      "File \u001b[0;32m~/anaconda3/envs/emre_venv/lib/python3.9/site-packages/tensorflow/python/eager/polymorphic_function/polymorphic_function.py:880\u001b[0m, in \u001b[0;36mFunction.__call__\u001b[0;34m(self, *args, **kwds)\u001b[0m\n\u001b[1;32m    877\u001b[0m compiler \u001b[38;5;241m=\u001b[39m \u001b[38;5;124m\"\u001b[39m\u001b[38;5;124mxla\u001b[39m\u001b[38;5;124m\"\u001b[39m \u001b[38;5;28;01mif\u001b[39;00m \u001b[38;5;28mself\u001b[39m\u001b[38;5;241m.\u001b[39m_jit_compile \u001b[38;5;28;01melse\u001b[39;00m \u001b[38;5;124m\"\u001b[39m\u001b[38;5;124mnonXla\u001b[39m\u001b[38;5;124m\"\u001b[39m\n\u001b[1;32m    879\u001b[0m \u001b[38;5;28;01mwith\u001b[39;00m OptionalXlaContext(\u001b[38;5;28mself\u001b[39m\u001b[38;5;241m.\u001b[39m_jit_compile):\n\u001b[0;32m--> 880\u001b[0m   result \u001b[38;5;241m=\u001b[39m \u001b[38;5;28;43mself\u001b[39;49m\u001b[38;5;241;43m.\u001b[39;49m\u001b[43m_call\u001b[49m\u001b[43m(\u001b[49m\u001b[38;5;241;43m*\u001b[39;49m\u001b[43margs\u001b[49m\u001b[43m,\u001b[49m\u001b[43m \u001b[49m\u001b[38;5;241;43m*\u001b[39;49m\u001b[38;5;241;43m*\u001b[39;49m\u001b[43mkwds\u001b[49m\u001b[43m)\u001b[49m\n\u001b[1;32m    882\u001b[0m new_tracing_count \u001b[38;5;241m=\u001b[39m \u001b[38;5;28mself\u001b[39m\u001b[38;5;241m.\u001b[39mexperimental_get_tracing_count()\n\u001b[1;32m    883\u001b[0m without_tracing \u001b[38;5;241m=\u001b[39m (tracing_count \u001b[38;5;241m==\u001b[39m new_tracing_count)\n",
      "File \u001b[0;32m~/anaconda3/envs/emre_venv/lib/python3.9/site-packages/tensorflow/python/eager/polymorphic_function/polymorphic_function.py:912\u001b[0m, in \u001b[0;36mFunction._call\u001b[0;34m(self, *args, **kwds)\u001b[0m\n\u001b[1;32m    909\u001b[0m   \u001b[38;5;28mself\u001b[39m\u001b[38;5;241m.\u001b[39m_lock\u001b[38;5;241m.\u001b[39mrelease()\n\u001b[1;32m    910\u001b[0m   \u001b[38;5;66;03m# In this case we have created variables on the first call, so we run the\u001b[39;00m\n\u001b[1;32m    911\u001b[0m   \u001b[38;5;66;03m# defunned version which is guaranteed to never create variables.\u001b[39;00m\n\u001b[0;32m--> 912\u001b[0m   \u001b[38;5;28;01mreturn\u001b[39;00m \u001b[38;5;28;43mself\u001b[39;49m\u001b[38;5;241;43m.\u001b[39;49m\u001b[43m_no_variable_creation_fn\u001b[49m\u001b[43m(\u001b[49m\u001b[38;5;241;43m*\u001b[39;49m\u001b[43margs\u001b[49m\u001b[43m,\u001b[49m\u001b[43m \u001b[49m\u001b[38;5;241;43m*\u001b[39;49m\u001b[38;5;241;43m*\u001b[39;49m\u001b[43mkwds\u001b[49m\u001b[43m)\u001b[49m  \u001b[38;5;66;03m# pylint: disable=not-callable\u001b[39;00m\n\u001b[1;32m    913\u001b[0m \u001b[38;5;28;01melif\u001b[39;00m \u001b[38;5;28mself\u001b[39m\u001b[38;5;241m.\u001b[39m_variable_creation_fn \u001b[38;5;129;01mis\u001b[39;00m \u001b[38;5;129;01mnot\u001b[39;00m \u001b[38;5;28;01mNone\u001b[39;00m:\n\u001b[1;32m    914\u001b[0m   \u001b[38;5;66;03m# Release the lock early so that multiple threads can perform the call\u001b[39;00m\n\u001b[1;32m    915\u001b[0m   \u001b[38;5;66;03m# in parallel.\u001b[39;00m\n\u001b[1;32m    916\u001b[0m   \u001b[38;5;28mself\u001b[39m\u001b[38;5;241m.\u001b[39m_lock\u001b[38;5;241m.\u001b[39mrelease()\n",
      "File \u001b[0;32m~/anaconda3/envs/emre_venv/lib/python3.9/site-packages/tensorflow/python/eager/polymorphic_function/tracing_compiler.py:134\u001b[0m, in \u001b[0;36mTracingCompiler.__call__\u001b[0;34m(self, *args, **kwargs)\u001b[0m\n\u001b[1;32m    131\u001b[0m \u001b[38;5;28;01mwith\u001b[39;00m \u001b[38;5;28mself\u001b[39m\u001b[38;5;241m.\u001b[39m_lock:\n\u001b[1;32m    132\u001b[0m   (concrete_function,\n\u001b[1;32m    133\u001b[0m    filtered_flat_args) \u001b[38;5;241m=\u001b[39m \u001b[38;5;28mself\u001b[39m\u001b[38;5;241m.\u001b[39m_maybe_define_function(args, kwargs)\n\u001b[0;32m--> 134\u001b[0m \u001b[38;5;28;01mreturn\u001b[39;00m \u001b[43mconcrete_function\u001b[49m\u001b[38;5;241;43m.\u001b[39;49m\u001b[43m_call_flat\u001b[49m\u001b[43m(\u001b[49m\n\u001b[1;32m    135\u001b[0m \u001b[43m    \u001b[49m\u001b[43mfiltered_flat_args\u001b[49m\u001b[43m,\u001b[49m\u001b[43m \u001b[49m\u001b[43mcaptured_inputs\u001b[49m\u001b[38;5;241;43m=\u001b[39;49m\u001b[43mconcrete_function\u001b[49m\u001b[38;5;241;43m.\u001b[39;49m\u001b[43mcaptured_inputs\u001b[49m\u001b[43m)\u001b[49m\n",
      "File \u001b[0;32m~/anaconda3/envs/emre_venv/lib/python3.9/site-packages/tensorflow/python/eager/polymorphic_function/monomorphic_function.py:1745\u001b[0m, in \u001b[0;36mConcreteFunction._call_flat\u001b[0;34m(self, args, captured_inputs, cancellation_manager)\u001b[0m\n\u001b[1;32m   1741\u001b[0m possible_gradient_type \u001b[38;5;241m=\u001b[39m gradients_util\u001b[38;5;241m.\u001b[39mPossibleTapeGradientTypes(args)\n\u001b[1;32m   1742\u001b[0m \u001b[38;5;28;01mif\u001b[39;00m (possible_gradient_type \u001b[38;5;241m==\u001b[39m gradients_util\u001b[38;5;241m.\u001b[39mPOSSIBLE_GRADIENT_TYPES_NONE\n\u001b[1;32m   1743\u001b[0m     \u001b[38;5;129;01mand\u001b[39;00m executing_eagerly):\n\u001b[1;32m   1744\u001b[0m   \u001b[38;5;66;03m# No tape is watching; skip to running the function.\u001b[39;00m\n\u001b[0;32m-> 1745\u001b[0m   \u001b[38;5;28;01mreturn\u001b[39;00m \u001b[38;5;28mself\u001b[39m\u001b[38;5;241m.\u001b[39m_build_call_outputs(\u001b[38;5;28;43mself\u001b[39;49m\u001b[38;5;241;43m.\u001b[39;49m\u001b[43m_inference_function\u001b[49m\u001b[38;5;241;43m.\u001b[39;49m\u001b[43mcall\u001b[49m\u001b[43m(\u001b[49m\n\u001b[1;32m   1746\u001b[0m \u001b[43m      \u001b[49m\u001b[43mctx\u001b[49m\u001b[43m,\u001b[49m\u001b[43m \u001b[49m\u001b[43margs\u001b[49m\u001b[43m,\u001b[49m\u001b[43m \u001b[49m\u001b[43mcancellation_manager\u001b[49m\u001b[38;5;241;43m=\u001b[39;49m\u001b[43mcancellation_manager\u001b[49m\u001b[43m)\u001b[49m)\n\u001b[1;32m   1747\u001b[0m forward_backward \u001b[38;5;241m=\u001b[39m \u001b[38;5;28mself\u001b[39m\u001b[38;5;241m.\u001b[39m_select_forward_and_backward_functions(\n\u001b[1;32m   1748\u001b[0m     args,\n\u001b[1;32m   1749\u001b[0m     possible_gradient_type,\n\u001b[1;32m   1750\u001b[0m     executing_eagerly)\n\u001b[1;32m   1751\u001b[0m forward_function, args_with_tangents \u001b[38;5;241m=\u001b[39m forward_backward\u001b[38;5;241m.\u001b[39mforward()\n",
      "File \u001b[0;32m~/anaconda3/envs/emre_venv/lib/python3.9/site-packages/tensorflow/python/eager/polymorphic_function/monomorphic_function.py:378\u001b[0m, in \u001b[0;36m_EagerDefinedFunction.call\u001b[0;34m(self, ctx, args, cancellation_manager)\u001b[0m\n\u001b[1;32m    376\u001b[0m \u001b[38;5;28;01mwith\u001b[39;00m _InterpolateFunctionError(\u001b[38;5;28mself\u001b[39m):\n\u001b[1;32m    377\u001b[0m   \u001b[38;5;28;01mif\u001b[39;00m cancellation_manager \u001b[38;5;129;01mis\u001b[39;00m \u001b[38;5;28;01mNone\u001b[39;00m:\n\u001b[0;32m--> 378\u001b[0m     outputs \u001b[38;5;241m=\u001b[39m \u001b[43mexecute\u001b[49m\u001b[38;5;241;43m.\u001b[39;49m\u001b[43mexecute\u001b[49m\u001b[43m(\u001b[49m\n\u001b[1;32m    379\u001b[0m \u001b[43m        \u001b[49m\u001b[38;5;28;43mstr\u001b[39;49m\u001b[43m(\u001b[49m\u001b[38;5;28;43mself\u001b[39;49m\u001b[38;5;241;43m.\u001b[39;49m\u001b[43msignature\u001b[49m\u001b[38;5;241;43m.\u001b[39;49m\u001b[43mname\u001b[49m\u001b[43m)\u001b[49m\u001b[43m,\u001b[49m\n\u001b[1;32m    380\u001b[0m \u001b[43m        \u001b[49m\u001b[43mnum_outputs\u001b[49m\u001b[38;5;241;43m=\u001b[39;49m\u001b[38;5;28;43mself\u001b[39;49m\u001b[38;5;241;43m.\u001b[39;49m\u001b[43m_num_outputs\u001b[49m\u001b[43m,\u001b[49m\n\u001b[1;32m    381\u001b[0m \u001b[43m        \u001b[49m\u001b[43minputs\u001b[49m\u001b[38;5;241;43m=\u001b[39;49m\u001b[43margs\u001b[49m\u001b[43m,\u001b[49m\n\u001b[1;32m    382\u001b[0m \u001b[43m        \u001b[49m\u001b[43mattrs\u001b[49m\u001b[38;5;241;43m=\u001b[39;49m\u001b[43mattrs\u001b[49m\u001b[43m,\u001b[49m\n\u001b[1;32m    383\u001b[0m \u001b[43m        \u001b[49m\u001b[43mctx\u001b[49m\u001b[38;5;241;43m=\u001b[39;49m\u001b[43mctx\u001b[49m\u001b[43m)\u001b[49m\n\u001b[1;32m    384\u001b[0m   \u001b[38;5;28;01melse\u001b[39;00m:\n\u001b[1;32m    385\u001b[0m     outputs \u001b[38;5;241m=\u001b[39m execute\u001b[38;5;241m.\u001b[39mexecute_with_cancellation(\n\u001b[1;32m    386\u001b[0m         \u001b[38;5;28mstr\u001b[39m(\u001b[38;5;28mself\u001b[39m\u001b[38;5;241m.\u001b[39msignature\u001b[38;5;241m.\u001b[39mname),\n\u001b[1;32m    387\u001b[0m         num_outputs\u001b[38;5;241m=\u001b[39m\u001b[38;5;28mself\u001b[39m\u001b[38;5;241m.\u001b[39m_num_outputs,\n\u001b[0;32m   (...)\u001b[0m\n\u001b[1;32m    390\u001b[0m         ctx\u001b[38;5;241m=\u001b[39mctx,\n\u001b[1;32m    391\u001b[0m         cancellation_manager\u001b[38;5;241m=\u001b[39mcancellation_manager)\n",
      "File \u001b[0;32m~/anaconda3/envs/emre_venv/lib/python3.9/site-packages/tensorflow/python/eager/execute.py:52\u001b[0m, in \u001b[0;36mquick_execute\u001b[0;34m(op_name, num_outputs, inputs, attrs, ctx, name)\u001b[0m\n\u001b[1;32m     50\u001b[0m \u001b[38;5;28;01mtry\u001b[39;00m:\n\u001b[1;32m     51\u001b[0m   ctx\u001b[38;5;241m.\u001b[39mensure_initialized()\n\u001b[0;32m---> 52\u001b[0m   tensors \u001b[38;5;241m=\u001b[39m \u001b[43mpywrap_tfe\u001b[49m\u001b[38;5;241;43m.\u001b[39;49m\u001b[43mTFE_Py_Execute\u001b[49m\u001b[43m(\u001b[49m\u001b[43mctx\u001b[49m\u001b[38;5;241;43m.\u001b[39;49m\u001b[43m_handle\u001b[49m\u001b[43m,\u001b[49m\u001b[43m \u001b[49m\u001b[43mdevice_name\u001b[49m\u001b[43m,\u001b[49m\u001b[43m \u001b[49m\u001b[43mop_name\u001b[49m\u001b[43m,\u001b[49m\n\u001b[1;32m     53\u001b[0m \u001b[43m                                      \u001b[49m\u001b[43minputs\u001b[49m\u001b[43m,\u001b[49m\u001b[43m \u001b[49m\u001b[43mattrs\u001b[49m\u001b[43m,\u001b[49m\u001b[43m \u001b[49m\u001b[43mnum_outputs\u001b[49m\u001b[43m)\u001b[49m\n\u001b[1;32m     54\u001b[0m \u001b[38;5;28;01mexcept\u001b[39;00m core\u001b[38;5;241m.\u001b[39m_NotOkStatusException \u001b[38;5;28;01mas\u001b[39;00m e:\n\u001b[1;32m     55\u001b[0m   \u001b[38;5;28;01mif\u001b[39;00m name \u001b[38;5;129;01mis\u001b[39;00m \u001b[38;5;129;01mnot\u001b[39;00m \u001b[38;5;28;01mNone\u001b[39;00m:\n",
      "\u001b[0;31mKeyboardInterrupt\u001b[0m: "
     ]
    }
   ],
   "source": [
    "history = model.fit(train_x[train_index], train_y[train_index],\n",
    "                    validation_data=(train_x[test_index], train_y[test_index]),\n",
    "                    epochs=EPOCHS, callbacks=cb_list, batch_size=BATCH_SIZE)"
   ]
  },
  {
   "cell_type": "code",
   "execution_count": 47,
   "id": "7b8d03de",
   "metadata": {},
   "outputs": [
    {
     "name": "stdout",
     "output_type": "stream",
     "text": [
      "148/148 [==============================] - 1s 5ms/step - loss: 1.1346 - acc: 0.7227\n",
      "72.2692608833313\n"
     ]
    }
   ],
   "source": [
    "### eval\n",
    "loss, acc = model.evaluate(train_x[test_index], train_y[test_index])\n",
    "print(acc*100)"
   ]
  },
  {
   "cell_type": "markdown",
   "id": "b849444d",
   "metadata": {},
   "source": [
    "## Save model"
   ]
  },
  {
   "cell_type": "code",
   "execution_count": 48,
   "id": "cf7aa3e6",
   "metadata": {},
   "outputs": [
    {
     "name": "stdout",
     "output_type": "stream",
     "text": [
      "models/gislr_allposes_acc72.27.h5 saved.\n"
     ]
    }
   ],
   "source": [
    "model_name = 'models/gislr_allposes_acc' + str(round(acc*100, 2)) + '.h5'\n",
    "model.save(model_name)\n",
    "print(model_name, 'saved.')"
   ]
  },
  {
   "cell_type": "code",
   "execution_count": null,
   "id": "df5203d1",
   "metadata": {},
   "outputs": [],
   "source": []
  },
  {
   "cell_type": "code",
   "execution_count": 36,
   "id": "4be0db8c",
   "metadata": {},
   "outputs": [
    {
     "name": "stdout",
     "output_type": "stream",
     "text": [
      "Model: \"model\"\n",
      "_________________________________________________________________\n",
      " Layer (type)                Output Shape              Param #   \n",
      "=================================================================\n",
      " input_1 (InputLayer)        [(None, 5796)]            0         \n",
      "                                                                 \n",
      " dense (Dense)               (None, 1426)              8266522   \n",
      "                                                                 \n",
      " batch_normalization (BatchN  (None, 1426)             5704      \n",
      " ormalization)                                                   \n",
      "                                                                 \n",
      " activation (Activation)     (None, 1426)              0         \n",
      "                                                                 \n",
      " dropout (Dropout)           (None, 1426)              0         \n",
      "                                                                 \n",
      " dense_1 (Dense)             (None, 713)               1017451   \n",
      "                                                                 \n",
      " batch_normalization_1 (Batc  (None, 713)              2852      \n",
      " hNormalization)                                                 \n",
      "                                                                 \n",
      " activation_1 (Activation)   (None, 713)               0         \n",
      "                                                                 \n",
      " dropout_1 (Dropout)         (None, 713)               0         \n",
      "                                                                 \n",
      " outputs (Dense)             (None, 250)               178500    \n",
      "                                                                 \n",
      "=================================================================\n",
      "Total params: 9,471,029\n",
      "Trainable params: 9,466,751\n",
      "Non-trainable params: 4,278\n",
      "_________________________________________________________________\n"
     ]
    }
   ],
   "source": [
    "model.summary()"
   ]
  },
  {
   "cell_type": "code",
   "execution_count": null,
   "id": "e6a3dd60",
   "metadata": {},
   "outputs": [],
   "source": []
  },
  {
   "cell_type": "markdown",
   "id": "44567c31",
   "metadata": {},
   "source": [
    "## Get inference model"
   ]
  },
  {
   "cell_type": "code",
   "execution_count": 15,
   "id": "e354d116",
   "metadata": {},
   "outputs": [],
   "source": [
    "load_model_name = 'models/my_gislr_acc72.27.h5'\n",
    "loaded_model = tf.keras.models.load_model(load_model_name)"
   ]
  },
  {
   "cell_type": "code",
   "execution_count": 16,
   "id": "6d03b6d8",
   "metadata": {},
   "outputs": [
    {
     "name": "stdout",
     "output_type": "stream",
     "text": [
      "Model: \"model\"\n",
      "_________________________________________________________________\n",
      " Layer (type)                Output Shape              Param #   \n",
      "=================================================================\n",
      " input_1 (InputLayer)        [(None, 5796)]            0         \n",
      "                                                                 \n",
      " dense (Dense)               (None, 1426)              8266522   \n",
      "                                                                 \n",
      " batch_normalization (BatchN  (None, 1426)             5704      \n",
      " ormalization)                                                   \n",
      "                                                                 \n",
      " activation (Activation)     (None, 1426)              0         \n",
      "                                                                 \n",
      " dropout (Dropout)           (None, 1426)              0         \n",
      "                                                                 \n",
      " dense_1 (Dense)             (None, 713)               1017451   \n",
      "                                                                 \n",
      " batch_normalization_1 (Batc  (None, 713)              2852      \n",
      " hNormalization)                                                 \n",
      "                                                                 \n",
      " activation_1 (Activation)   (None, 713)               0         \n",
      "                                                                 \n",
      " dropout_1 (Dropout)         (None, 713)               0         \n",
      "                                                                 \n",
      " outputs (Dense)             (None, 250)               178500    \n",
      "                                                                 \n",
      "=================================================================\n",
      "Total params: 9,471,029\n",
      "Trainable params: 9,466,751\n",
      "Non-trainable params: 4,278\n",
      "_________________________________________________________________\n"
     ]
    }
   ],
   "source": [
    "tf.keras.utils.plot_model(loaded_model)\n",
    "loaded_model.summary()"
   ]
  },
  {
   "cell_type": "code",
   "execution_count": 17,
   "id": "c35995a0",
   "metadata": {},
   "outputs": [
    {
     "name": "stdout",
     "output_type": "stream",
     "text": [
      "148/148 [==============================] - 2s 7ms/step - loss: 1.1346 - acc: 0.7227\n"
     ]
    }
   ],
   "source": [
    "loss, acc = loaded_model.evaluate(train_x[test_index], train_y[test_index])"
   ]
  },
  {
   "cell_type": "markdown",
   "id": "30e35f0e",
   "metadata": {},
   "source": [
    "## TFLite Model"
   ]
  },
  {
   "cell_type": "code",
   "execution_count": 18,
   "id": "cf7df018",
   "metadata": {},
   "outputs": [],
   "source": [
    "class TFLiteModel(tf.Module):\n",
    "    \"\"\"\n",
    "    TensorFlow Lite model that takes input tensors and applies:\n",
    "        – a preprocessing model\n",
    "        – the ISLR model \n",
    "    \"\"\"\n",
    "\n",
    "    def __init__(self, feature_model, islr_model):\n",
    "        \"\"\"\n",
    "        Initializes the TFLiteModel with the specified preprocessing model and ISLR model.\n",
    "        \"\"\"\n",
    "        super(TFLiteModel, self).__init__()\n",
    "\n",
    "        # Load the feature generation and main models\n",
    "        self.prep_inputs = feature_model\n",
    "        self.islr_model  = islr_model\n",
    "        \n",
    "    @tf.function(input_signature=[tf.TensorSpec(shape=[None, 543, 3], dtype=tf.float32, name='inputs')])\n",
    "    def __call__(self, inputs):\n",
    "        \"\"\"\n",
    "        Applies the feature generation model and main model to the input tensors.\n",
    "\n",
    "        Args:\n",
    "            inputs: Input tensor with shape [batch_size, 543, 3].\n",
    "\n",
    "        Returns:\n",
    "            A dictionary with a single key 'outputs' and corresponding output tensor.\n",
    "        \"\"\"\n",
    "        \n",
    "        \n",
    "#         inputs = self.input_layer()(tf.cast(inputs, dtype=tf.float32))\n",
    "        x = self.prep_inputs(inputs)\n",
    "#         print(x.shape)\n",
    "        outputs = self.islr_model(x)\n",
    "        \n",
    "#         outputs  = tf.concat([_model(x) for _model in self.islr_fold_models], axis=0)\n",
    "        \n",
    "#         # Compute the weighted sum and the sum of the weights and compute the weighted mean\n",
    "#         outputs = tf.reduce_sum(tf.multiply(outputs, self.model_weights), axis=0)\n",
    "#         outputs = tf.divide(outputs, tf.reduce_sum(self.model_weights, axis=0))\n",
    "        \n",
    "        # Return a dictionary with the output tensor\n",
    "        return {'outputs': outputs}"
   ]
  },
  {
   "cell_type": "code",
   "execution_count": 21,
   "id": "886b8b85",
   "metadata": {},
   "outputs": [],
   "source": [
    "inference_model = TFLiteModel(FeatureGen(), loaded_model)"
   ]
  },
  {
   "cell_type": "code",
   "execution_count": 24,
   "id": "afcc28cf",
   "metadata": {},
   "outputs": [
    {
     "name": "stdout",
     "output_type": "stream",
     "text": [
      "(23, 543, 3)\n",
      "(1, 250)\n"
     ]
    }
   ],
   "source": [
    "# test inference model\n",
    "data_path = \"../data/\"\n",
    "train_csv = pd.read_csv(f\"{data_path}train.csv\")\n",
    "\n",
    "frames = load_relevant_data_subset(f'{data_path}/{train_csv.iloc[0].path}')\n",
    "print(frames.shape)\n",
    "# preds = inference_model.predict(frames)\n",
    "preds = inference_model(frames)\n",
    "print(preds['outputs'].shape)"
   ]
  },
  {
   "cell_type": "code",
   "execution_count": null,
   "id": "cc2eb105",
   "metadata": {},
   "outputs": [],
   "source": []
  },
  {
   "cell_type": "markdown",
   "id": "11e426b4",
   "metadata": {
    "papermill": {
     "duration": 0.027783,
     "end_time": "2023-03-02T17:32:57.147288",
     "exception": false,
     "start_time": "2023-03-02T17:32:57.119505",
     "status": "completed"
    },
    "tags": []
   },
   "source": [
    "## Create submission file"
   ]
  },
  {
   "cell_type": "code",
   "execution_count": 112,
   "id": "5b9fe4a7",
   "metadata": {
    "execution": {
     "iopub.execute_input": "2023-03-02T17:32:57.206848Z",
     "iopub.status.busy": "2023-03-02T17:32:57.206192Z",
     "iopub.status.idle": "2023-03-02T17:33:32.919954Z",
     "shell.execute_reply": "2023-03-02T17:33:32.918197Z"
    },
    "papermill": {
     "duration": 35.74801,
     "end_time": "2023-03-02T17:33:32.923283",
     "exception": false,
     "start_time": "2023-03-02T17:32:57.175273",
     "status": "completed"
    },
    "tags": []
   },
   "outputs": [
    {
     "name": "stdout",
     "output_type": "stream",
     "text": [
      "(1, 5796)\n"
     ]
    },
    {
     "name": "stderr",
     "output_type": "stream",
     "text": [
      "WARNING:absl:Found untraced functions such as feature_gen_15_layer_call_fn, feature_gen_15_layer_call_and_return_conditional_losses while saving (showing 2 of 2). These functions will not be directly callable after loading.\n"
     ]
    },
    {
     "name": "stdout",
     "output_type": "stream",
     "text": [
      "INFO:tensorflow:Assets written to: /tmp/tmpq56xbhwu/assets\n"
     ]
    },
    {
     "name": "stderr",
     "output_type": "stream",
     "text": [
      "INFO:tensorflow:Assets written to: /tmp/tmpq56xbhwu/assets\n",
      "2023-03-19 20:23:50.750427: W tensorflow/compiler/mlir/lite/python/tf_tfl_flatbuffer_helpers.cc:362] Ignored output_format.\n",
      "2023-03-19 20:23:50.750474: W tensorflow/compiler/mlir/lite/python/tf_tfl_flatbuffer_helpers.cc:365] Ignored drop_control_dependency.\n",
      "2023-03-19 20:23:50.751950: I tensorflow/cc/saved_model/reader.cc:45] Reading SavedModel from: /tmp/tmpq56xbhwu\n",
      "2023-03-19 20:23:50.760269: I tensorflow/cc/saved_model/reader.cc:89] Reading meta graph with tags { serve }\n",
      "2023-03-19 20:23:50.760308: I tensorflow/cc/saved_model/reader.cc:130] Reading SavedModel debug info (if present) from: /tmp/tmpq56xbhwu\n",
      "2023-03-19 20:23:50.791279: I tensorflow/compiler/mlir/mlir_graph_optimization_pass.cc:357] MLIR V1 optimization pass is not enabled\n",
      "2023-03-19 20:23:50.794689: I tensorflow/cc/saved_model/loader.cc:229] Restoring SavedModel bundle.\n",
      "2023-03-19 20:23:51.012577: I tensorflow/cc/saved_model/loader.cc:213] Running initialization op on SavedModel bundle at path: /tmp/tmpq56xbhwu\n",
      "2023-03-19 20:23:51.057410: I tensorflow/cc/saved_model/loader.cc:305] SavedModel load for tags { serve }; Status: success: OK. Took 305461 microseconds.\n"
     ]
    },
    {
     "name": "stdout",
     "output_type": "stream",
     "text": [
      "updating: model.tflite (deflated 7%)\n"
     ]
    }
   ],
   "source": [
    "converter = tf.lite.TFLiteConverter.from_keras_model(inference_model)\n",
    "tflite_model = converter.convert()\n",
    "model_path = \"model.tflite\"\n",
    "# Save the model.\n",
    "with open(model_path, 'wb') as f:\n",
    "    f.write(tflite_model)\n",
    "!zip submission.zip $model_path"
   ]
  },
  {
   "cell_type": "code",
   "execution_count": null,
   "id": "d3a2d203",
   "metadata": {},
   "outputs": [],
   "source": []
  },
  {
   "cell_type": "code",
   "execution_count": null,
   "id": "a74d80f8",
   "metadata": {},
   "outputs": [],
   "source": []
  },
  {
   "cell_type": "markdown",
   "id": "b212847e",
   "metadata": {
    "papermill": {
     "duration": 0.02741,
     "end_time": "2023-03-02T17:33:32.979257",
     "exception": false,
     "start_time": "2023-03-02T17:33:32.951847",
     "status": "completed"
    },
    "tags": []
   },
   "source": [
    "## Making Predictions"
   ]
  },
  {
   "cell_type": "code",
   "execution_count": 71,
   "id": "09676265",
   "metadata": {
    "execution": {
     "iopub.execute_input": "2023-03-02T17:33:33.038545Z",
     "iopub.status.busy": "2023-03-02T17:33:33.037978Z",
     "iopub.status.idle": "2023-03-02T17:33:47.446121Z",
     "shell.execute_reply": "2023-03-02T17:33:47.444415Z"
    },
    "papermill": {
     "duration": 14.442361,
     "end_time": "2023-03-02T17:33:47.449599",
     "exception": false,
     "start_time": "2023-03-02T17:33:33.007238",
     "status": "completed"
    },
    "tags": []
   },
   "outputs": [],
   "source": [
    "# !pip install tflite-runtime"
   ]
  },
  {
   "cell_type": "code",
   "execution_count": 15,
   "id": "73624311",
   "metadata": {},
   "outputs": [],
   "source": [
    "def read_dict(file_path):\n",
    "    path = os.path.expanduser(file_path)\n",
    "    with open(path, \"r\") as f:\n",
    "        dic = json.load(f)\n",
    "    return dic"
   ]
  },
  {
   "cell_type": "code",
   "execution_count": 26,
   "id": "4fef0a3f",
   "metadata": {
    "scrolled": false
   },
   "outputs": [
    {
     "data": {
      "text/html": [
       "<div>\n",
       "<style scoped>\n",
       "    .dataframe tbody tr th:only-of-type {\n",
       "        vertical-align: middle;\n",
       "    }\n",
       "\n",
       "    .dataframe tbody tr th {\n",
       "        vertical-align: top;\n",
       "    }\n",
       "\n",
       "    .dataframe thead th {\n",
       "        text-align: right;\n",
       "    }\n",
       "</style>\n",
       "<table border=\"1\" class=\"dataframe\">\n",
       "  <thead>\n",
       "    <tr style=\"text-align: right;\">\n",
       "      <th></th>\n",
       "      <th>path</th>\n",
       "      <th>participant_id</th>\n",
       "      <th>sequence_id</th>\n",
       "      <th>sign</th>\n",
       "    </tr>\n",
       "  </thead>\n",
       "  <tbody>\n",
       "    <tr>\n",
       "      <th>0</th>\n",
       "      <td>train_landmark_files/26734/1000035562.parquet</td>\n",
       "      <td>26734</td>\n",
       "      <td>1000035562</td>\n",
       "      <td>blow</td>\n",
       "    </tr>\n",
       "    <tr>\n",
       "      <th>1</th>\n",
       "      <td>train_landmark_files/28656/1000106739.parquet</td>\n",
       "      <td>28656</td>\n",
       "      <td>1000106739</td>\n",
       "      <td>wait</td>\n",
       "    </tr>\n",
       "    <tr>\n",
       "      <th>2</th>\n",
       "      <td>train_landmark_files/16069/100015657.parquet</td>\n",
       "      <td>16069</td>\n",
       "      <td>100015657</td>\n",
       "      <td>cloud</td>\n",
       "    </tr>\n",
       "    <tr>\n",
       "      <th>3</th>\n",
       "      <td>train_landmark_files/25571/1000210073.parquet</td>\n",
       "      <td>25571</td>\n",
       "      <td>1000210073</td>\n",
       "      <td>bird</td>\n",
       "    </tr>\n",
       "    <tr>\n",
       "      <th>4</th>\n",
       "      <td>train_landmark_files/62590/1000240708.parquet</td>\n",
       "      <td>62590</td>\n",
       "      <td>1000240708</td>\n",
       "      <td>owie</td>\n",
       "    </tr>\n",
       "  </tbody>\n",
       "</table>\n",
       "</div>"
      ],
      "text/plain": [
       "                                            path  participant_id  sequence_id  \\\n",
       "0  train_landmark_files/26734/1000035562.parquet           26734   1000035562   \n",
       "1  train_landmark_files/28656/1000106739.parquet           28656   1000106739   \n",
       "2   train_landmark_files/16069/100015657.parquet           16069    100015657   \n",
       "3  train_landmark_files/25571/1000210073.parquet           25571   1000210073   \n",
       "4  train_landmark_files/62590/1000240708.parquet           62590   1000240708   \n",
       "\n",
       "    sign  \n",
       "0   blow  \n",
       "1   wait  \n",
       "2  cloud  \n",
       "3   bird  \n",
       "4   owie  "
      ]
     },
     "execution_count": 26,
     "metadata": {},
     "output_type": "execute_result"
    }
   ],
   "source": [
    "data_path = \"../data/\"\n",
    "train_csv = pd.read_csv(f\"{data_path}train.csv\")\n",
    "train_csv.head()"
   ]
  },
  {
   "cell_type": "code",
   "execution_count": 27,
   "id": "9bf71ab8",
   "metadata": {},
   "outputs": [],
   "source": [
    "from tqdm import tqdm"
   ]
  },
  {
   "cell_type": "code",
   "execution_count": 28,
   "id": "190c62b9",
   "metadata": {},
   "outputs": [
    {
     "name": "stdout",
     "output_type": "stream",
     "text": [
      "Num. of classes:  250\n"
     ]
    }
   ],
   "source": [
    "label_index = read_dict(f\"{data_path}sign_to_prediction_index_map.json\")\n",
    "index_label = dict([(label_index[key], key) for key in label_index])\n",
    "print('Num. of classes: ', len(label_index))\n",
    "train_csv[\"label\"] = train_csv[\"sign\"].map(lambda sign: label_index[sign])"
   ]
  },
  {
   "cell_type": "markdown",
   "id": "025528fa",
   "metadata": {},
   "source": [
    "## gislr eval"
   ]
  },
  {
   "cell_type": "code",
   "execution_count": 76,
   "id": "6f63c345",
   "metadata": {
    "execution": {
     "iopub.execute_input": "2023-03-02T17:33:47.513972Z",
     "iopub.status.busy": "2023-03-02T17:33:47.512320Z",
     "iopub.status.idle": "2023-03-02T17:44:44.702686Z",
     "shell.execute_reply": "2023-03-02T17:44:44.701265Z"
    },
    "papermill": {
     "duration": 657.225799,
     "end_time": "2023-03-02T17:44:44.705558",
     "exception": false,
     "start_time": "2023-03-02T17:33:47.479759",
     "status": "completed"
    },
    "tags": []
   },
   "outputs": [
    {
     "name": "stdout",
     "output_type": "stream",
     "text": [
      "Predicted label: blow, Actual Label: blow\n",
      "Predicted label: wait, Actual Label: wait\n",
      "Predicted label: cloud, Actual Label: cloud\n",
      "Predicted label: bird, Actual Label: bird\n",
      "Predicted label: owie, Actual Label: owie\n",
      "Predicted label: duck, Actual Label: duck\n",
      "Predicted label: minemy, Actual Label: minemy\n",
      "Predicted label: lips, Actual Label: lips\n",
      "Predicted label: flower, Actual Label: flower\n",
      "Predicted label: lion, Actual Label: time\n",
      "Predicted label: vacuum, Actual Label: vacuum\n",
      "Predicted label: apple, Actual Label: apple\n",
      "Predicted label: puzzle, Actual Label: puzzle\n",
      "Predicted label: mitten, Actual Label: mitten\n",
      "Predicted label: there, Actual Label: there\n",
      "Predicted label: dry, Actual Label: dry\n",
      "Predicted label: shirt, Actual Label: shirt\n",
      "Predicted label: owl, Actual Label: owl\n",
      "Predicted label: yellow, Actual Label: yellow\n",
      "Predicted label: drop, Actual Label: time\n"
     ]
    }
   ],
   "source": [
    "import tflite_runtime.interpreter as tflite\n",
    "interpreter = tflite.Interpreter('model.tflite')\n",
    "found_signatures = list(interpreter.get_signature_list().keys())\n",
    "prediction_fn = interpreter.get_signature_runner(\"serving_default\")\n",
    "for i in range(20):\n",
    "    frames = load_relevant_data_subset(f'{data_path}/{train_csv.iloc[i].path}')\n",
    "    output = prediction_fn(inputs=frames)\n",
    "    sign = np.argmax(output[\"outputs\"])\n",
    "#     output = inference_model(inputs=frames)\n",
    "#     sign = np.argmax(output)\n",
    "#     print(sign)\n",
    "    print(f\"Predicted label: {index_label[sign]}, Actual Label: {train_csv.iloc[i].sign}\")"
   ]
  },
  {
   "cell_type": "code",
   "execution_count": 29,
   "id": "52948dd0",
   "metadata": {},
   "outputs": [
    {
     "name": "stderr",
     "output_type": "stream",
     "text": [
      "4724it [01:19, 59.48it/s]\n"
     ]
    }
   ],
   "source": [
    "pred_ls = []\n",
    "gt_ls = []\n",
    "# train_x[test_index], train_y[test_index]\n",
    "for i, idx in tqdm(enumerate(test_index), position=0):\n",
    "#     output = inference_model.predict(load_relevant_data_subset(f'{data_path}/{train_csv.iloc[idx].path}'), verbose=0)\n",
    "    output = inference_model(load_relevant_data_subset(f'{data_path}/{train_csv.iloc[idx].path}'))\n",
    "    sign = np.argmax(output['outputs'])\n",
    "    pred_ls.append(sign)\n",
    "    gt_ls.append(train_y[idx])\n",
    "#     break\n",
    "assert(len(pred_ls) == len(gt_ls))"
   ]
  },
  {
   "cell_type": "code",
   "execution_count": 30,
   "id": "bf34d902",
   "metadata": {},
   "outputs": [
    {
     "data": {
      "text/plain": [
       "72.2692633361558"
      ]
     },
     "execution_count": 30,
     "metadata": {},
     "output_type": "execute_result"
    }
   ],
   "source": [
    "acc = np.sum([1 for i in range(len(gt_ls)) if gt_ls[i] == pred_ls[i]]) / len(gt_ls) * 100\n",
    "acc"
   ]
  },
  {
   "cell_type": "markdown",
   "id": "5861efae",
   "metadata": {},
   "source": [
    "## confusion matrix"
   ]
  },
  {
   "cell_type": "code",
   "execution_count": 31,
   "id": "0d45c165",
   "metadata": {},
   "outputs": [],
   "source": [
    "from collections import Counter"
   ]
  },
  {
   "cell_type": "code",
   "execution_count": 32,
   "id": "6c460cc6",
   "metadata": {},
   "outputs": [],
   "source": [
    "num_class = 250 # len(np.unique(gt_ls))\n",
    "num_selectclass = 64"
   ]
  },
  {
   "cell_type": "code",
   "execution_count": 33,
   "id": "f81ca70c",
   "metadata": {},
   "outputs": [],
   "source": [
    "cf = sklearn.metrics.confusion_matrix(gt_ls, pred_ls)\n",
    "diags = np.diagonal(cf)\n",
    "num_samples_per_class = Counter(gt_ls)\n",
    "classwise_acc = [round(diags[i] / num_samples_per_class[i] * 100, 2) for i in range(num_class)]\n",
    "sorted_ls = sorted(range(len(classwise_acc)), key=classwise_acc.__getitem__, reverse=True)\n",
    "select_classes = sorted_ls[:num_selectclass]\n",
    "select_classes_str = [index_label[s] for s in select_classes]\n",
    "select_classes_dict = dict(zip(select_classes_str, select_classes))"
   ]
  },
  {
   "cell_type": "code",
   "execution_count": 34,
   "id": "7781ec54",
   "metadata": {},
   "outputs": [
    {
     "data": {
      "text/plain": [
       "100.0"
      ]
     },
     "execution_count": 34,
     "metadata": {},
     "output_type": "execute_result"
    }
   ],
   "source": [
    "classwise_acc[sorted_ls[0]]"
   ]
  },
  {
   "cell_type": "code",
   "execution_count": 35,
   "id": "370a5927",
   "metadata": {},
   "outputs": [],
   "source": [
    "with open(\"chess_classes64.json\", \"w\") as outfile:\n",
    "    json.dump(select_classes_dict, outfile)"
   ]
  },
  {
   "cell_type": "markdown",
   "id": "fdcfa6ca",
   "metadata": {},
   "source": [
    "## Train for 64 signs"
   ]
  },
  {
   "cell_type": "code",
   "execution_count": 16,
   "id": "9d71a558",
   "metadata": {},
   "outputs": [],
   "source": [
    "select_classes_dict = read_dict(\"chess_classes64.json\")\n",
    "select_classes = select_classes_dict.values()"
   ]
  },
  {
   "cell_type": "code",
   "execution_count": 17,
   "id": "dede55a6",
   "metadata": {},
   "outputs": [
    {
     "name": "stdout",
     "output_type": "stream",
     "text": [
      "(24741, 5796)\n",
      "(24741,)\n"
     ]
    }
   ],
   "source": [
    "select_indices = [i for i in range(len(train_y)) if train_y[i] in select_classes]\n",
    "train_x64 = train_x[select_indices]\n",
    "train_y64 = train_y[select_indices]\n",
    "print(train_x64.shape)\n",
    "print(train_y64.shape)"
   ]
  },
  {
   "cell_type": "code",
   "execution_count": 18,
   "id": "b4c93c66",
   "metadata": {},
   "outputs": [],
   "source": [
    "train_index64, test_index64 = train_test_split(range(len(train_y64)), test_size=0.1, random_state=1)"
   ]
  },
  {
   "cell_type": "code",
   "execution_count": 35,
   "id": "5416ec31",
   "metadata": {},
   "outputs": [
    {
     "name": "stdout",
     "output_type": "stream",
     "text": [
      "64\n",
      "{2: 0, 10: 1, 24: 2, 25: 3, 29: 4, 31: 5, 32: 6, 34: 7, 44: 8, 49: 9, 50: 10, 60: 11, 63: 12, 67: 13, 72: 14, 75: 15, 77: 16, 82: 17, 83: 18, 85: 19, 87: 20, 88: 21, 92: 22, 100: 23, 103: 24, 114: 25, 118: 26, 119: 27, 120: 28, 122: 29, 133: 30, 140: 31, 145: 32, 147: 33, 151: 34, 154: 35, 156: 36, 157: 37, 158: 38, 159: 39, 162: 40, 163: 41, 172: 42, 174: 43, 182: 44, 189: 45, 190: 46, 193: 47, 194: 48, 195: 49, 197: 50, 201: 51, 207: 52, 209: 53, 218: 54, 219: 55, 220: 56, 227: 57, 228: 58, 234: 59, 237: 60, 243: 61, 246: 62, 248: 63}\n"
     ]
    }
   ],
   "source": [
    "class_map = dict(zip(np.unique(train_y64), list(range(len(np.unique(train_y64))))))\n",
    "train_y64_mapped = np.array([class_map[y] for y in train_y64])\n",
    "print(len(np.unique(train_y64_mapped)))\n",
    "print(class_map)"
   ]
  },
  {
   "cell_type": "code",
   "execution_count": 34,
   "id": "58710239",
   "metadata": {},
   "outputs": [
    {
     "data": {
      "text/plain": [
       "{'first': 18,\n",
       " 'flag': 19,\n",
       " 'nuts': 38,\n",
       " 'orange': 40,\n",
       " 'radio': 44,\n",
       " 'uncle': 58,\n",
       " 'airplane': 0,\n",
       " 'police': 43,\n",
       " 'aunt': 1,\n",
       " 'eye': 14,\n",
       " 'boy': 4,\n",
       " 'sad': 45,\n",
       " 'shower': 50,\n",
       " 'stuck': 53,\n",
       " 'blow': 3,\n",
       " 'brown': 5,\n",
       " 'home': 26,\n",
       " 'morning': 33,\n",
       " 'see': 47,\n",
       " 'clown': 9,\n",
       " 'gum': 24,\n",
       " 'callonphone': 7,\n",
       " 'donkey': 11,\n",
       " 'lion': 30,\n",
       " 'tree': 57,\n",
       " 'yourself': 62,\n",
       " 'zebra': 63,\n",
       " 'black': 2,\n",
       " 'drink': 12,\n",
       " 'icecream': 29,\n",
       " 'mom': 32,\n",
       " 'noisy': 35,\n",
       " 'now': 37,\n",
       " 'chocolate': 8,\n",
       " 'water': 59,\n",
       " 'old': 39,\n",
       " 'fireman': 17,\n",
       " 'food': 20,\n",
       " 'shirt': 49,\n",
       " 'time': 56,\n",
       " 'where': 60,\n",
       " 'farm': 15,\n",
       " 'feet': 16,\n",
       " 'hen': 25,\n",
       " 'horse': 27,\n",
       " 'thirsty': 54,\n",
       " 'same': 46,\n",
       " 'tiger': 55,\n",
       " 'grandpa': 23,\n",
       " 'napkin': 34,\n",
       " 'shhh': 48,\n",
       " 'smile': 51,\n",
       " 'store': 52,\n",
       " 'bug': 6,\n",
       " 'duck': 13,\n",
       " 'for': 21,\n",
       " 'man': 31,\n",
       " 'pizza': 42,\n",
       " 'yellow': 61,\n",
       " 'cow': 10,\n",
       " 'gift': 22,\n",
       " 'hot': 28,\n",
       " 'not': 36,\n",
       " 'outside': 41}"
      ]
     },
     "execution_count": 34,
     "metadata": {},
     "output_type": "execute_result"
    }
   ],
   "source": [
    "class_dict_0_to_63 = dict()\n",
    "\n",
    "for i in select_classes_dict.keys():\n",
    "    class_dict_0_to_63[i] = class_map[select_classes_dict[i]]\n",
    "class_dict_0_to_63"
   ]
  },
  {
   "cell_type": "code",
   "execution_count": 37,
   "id": "e7b11fb8",
   "metadata": {},
   "outputs": [],
   "source": [
    "with open(\"chess_classes_0_to_63.json\", \"w\") as outfile:\n",
    "    json.dump(select_classes_dict, outfile)"
   ]
  },
  {
   "cell_type": "markdown",
   "id": "5819d895",
   "metadata": {},
   "source": [
    "## Train"
   ]
  },
  {
   "cell_type": "code",
   "execution_count": 23,
   "id": "0c384de8",
   "metadata": {},
   "outputs": [],
   "source": [
    "model = get_model(n_labels=64)"
   ]
  },
  {
   "cell_type": "code",
   "execution_count": 24,
   "id": "14a01b3d",
   "metadata": {},
   "outputs": [
    {
     "data": {
      "image/png": "[encoded data removed]",
      "text/plain": [
       "<Figure size 1200x1200 with 4 Axes>"
      ]
     },
     "metadata": {},
     "output_type": "display_data"
    },
    {
     "name": "stdout",
     "output_type": "stream",
     "text": [
      "Accuracy\n",
      "\ttraining         \t (min:    0.091, max:    0.920, cur:    0.919)\n",
      "\tvalidation       \t (min:    0.081, max:    0.875, cur:    0.872)\n",
      "Loss\n",
      "\ttraining         \t (min:    0.285, max:    3.884, cur:    0.285)\n",
      "\tvalidation       \t (min:    0.508, max:    3.694, cur:    0.509)\n",
      "lr\n",
      "\tlr               \t (min:    0.000, max:    0.000, cur:    0.000)\n",
      "\b\b\b\b\b\b\b\b\b\b\b\b\b\b\b\b\b\b\b\b\b\b\b\b\b\b\b\b\b\b\b\b\b\b\b\b\b\b\b\b\b\b\b\b\b\b\b\b\b\b\b\b\b\b\b\b\b\b\b\b\b\b\b\b\b\b\b\b\b\b\b\b\b\b\b\b\b\b\b\r",
      "174/174 [==============================] - 3s 17ms/step - loss: 0.2849 - acc: 0.9192 - val_loss: 0.5088 - val_acc: 0.8715 - lr: 1.5725e-06\n"
     ]
    }
   ],
   "source": [
    "history64 = model.fit(train_x64[train_index64], train_y64_mapped[train_index64],\n",
    "                    validation_data=(train_x64[test_index64], train_y64_mapped[test_index64]),\n",
    "                    epochs=EPOCHS, callbacks=cb_list, batch_size=BATCH_SIZE)"
   ]
  },
  {
   "cell_type": "code",
   "execution_count": 26,
   "id": "93ef69ad",
   "metadata": {},
   "outputs": [
    {
     "name": "stdout",
     "output_type": "stream",
     "text": [
      "78/78 [==============================] - 0s 4ms/step - loss: 0.5121 - acc: 0.8747\n",
      "87.47474551200867\n"
     ]
    }
   ],
   "source": [
    "### eval\n",
    "loss, acc = model.evaluate(train_x64[test_index64], train_y64_mapped[test_index64])\n",
    "print(acc*100)"
   ]
  },
  {
   "cell_type": "code",
   "execution_count": null,
   "id": "8938c5ac",
   "metadata": {},
   "outputs": [],
   "source": []
  },
  {
   "cell_type": "code",
   "execution_count": null,
   "id": "cbda8403",
   "metadata": {},
   "outputs": [],
   "source": []
  },
  {
   "cell_type": "code",
   "execution_count": null,
   "id": "227dbcd3",
   "metadata": {},
   "outputs": [],
   "source": []
  },
  {
   "cell_type": "code",
   "execution_count": null,
   "id": "105c4704",
   "metadata": {},
   "outputs": [],
   "source": []
  },
  {
   "cell_type": "code",
   "execution_count": null,
   "id": "57219e13",
   "metadata": {},
   "outputs": [],
   "source": []
  },
  {
   "cell_type": "code",
   "execution_count": null,
   "id": "cc63368e",
   "metadata": {},
   "outputs": [],
   "source": []
  },
  {
   "cell_type": "code",
   "execution_count": null,
   "id": "2be6b52c",
   "metadata": {},
   "outputs": [],
   "source": []
  },
  {
   "cell_type": "code",
   "execution_count": null,
   "id": "9c51e3e2",
   "metadata": {},
   "outputs": [],
   "source": []
  },
  {
   "cell_type": "code",
   "execution_count": null,
   "id": "9aa0fc0a",
   "metadata": {},
   "outputs": [],
   "source": []
  },
  {
   "cell_type": "code",
   "execution_count": null,
   "id": "36ea52f5",
   "metadata": {},
   "outputs": [],
   "source": []
  }
 ],
 "metadata": {
  "kernelspec": {
   "display_name": "Python 3",
   "language": "python",
   "name": "python3"
  },
  "language_info": {
   "codemirror_mode": {
    "name": "ipython",
    "version": 3
   },
   "file_extension": ".py",
   "mimetype": "text/x-python",
   "name": "python",
   "nbconvert_exporter": "python",
   "pygments_lexer": "ipython3",
   "version": "3.9.13"
  }
 },
 "nbformat": 4,
 "nbformat_minor": 5
}
